{
 "cells": [
  {
   "cell_type": "markdown",
   "metadata": {},
   "source": [
    "### Gerekli import işlemlerini gerçekleştirelim"
   ]
  },
  {
   "cell_type": "code",
   "execution_count": 1,
   "metadata": {},
   "outputs": [],
   "source": [
    "import re\n",
    "import nltk\n",
    "import pandas as pd\n",
    "import numpy as np\n",
    "import matplotlib.pyplot as plt\n",
    "from sklearn.model_selection import train_test_split\n",
    "from sklearn.feature_extraction.text import TfidfVectorizer\n",
    "from sklearn.feature_extraction.text import CountVectorizer\n",
    "from collections import Counter\n",
    "\n",
    "\n",
    "\n",
    "from sklearn.metrics import accuracy_score\n",
    "from sklearn.linear_model import LogisticRegression,SGDClassifier\n",
    "from sklearn.multiclass import OneVsRestClassifier\n",
    "from sklearn.neighbors import KNeighborsClassifier\n",
    "from sklearn.svm import SVC\n",
    "from sklearn.svm import LinearSVC\n",
    "from sklearn.tree import DecisionTreeClassifier\n",
    "from sklearn.ensemble import RandomForestClassifier\n",
    "from sklearn.metrics import accuracy_score\n",
    "from sklearn.neighbors import KNeighborsClassifier\n",
    "\n",
    "\n"
   ]
  },
  {
   "cell_type": "markdown",
   "metadata": {},
   "source": [
    "### Datasetlerimizi inceleyerek kullanıma hazır hale getirelim"
   ]
  },
  {
   "cell_type": "code",
   "execution_count": 2,
   "metadata": {},
   "outputs": [
    {
     "name": "stdout",
     "output_type": "stream",
     "text": [
      "<class 'pandas.core.frame.DataFrame'>\n",
      "Int64Index: 19999 entries, 1 to 19999\n",
      "Data columns (total 1 columns):\n",
      " #   Column  Non-Null Count  Dtype \n",
      "---  ------  --------------  ----- \n",
      " 0   yorum   19999 non-null  object\n",
      "dtypes: object(1)\n",
      "memory usage: 312.5+ KB\n"
     ]
    },
    {
     "data": {
      "text/html": [
       "<div>\n",
       "<style scoped>\n",
       "    .dataframe tbody tr th:only-of-type {\n",
       "        vertical-align: middle;\n",
       "    }\n",
       "\n",
       "    .dataframe tbody tr th {\n",
       "        vertical-align: top;\n",
       "    }\n",
       "\n",
       "    .dataframe thead th {\n",
       "        text-align: right;\n",
       "    }\n",
       "</style>\n",
       "<table border=\"1\" class=\"dataframe\">\n",
       "  <thead>\n",
       "    <tr style=\"text-align: right;\">\n",
       "      <th></th>\n",
       "      <th>yorum</th>\n",
       "    </tr>\n",
       "  </thead>\n",
       "  <tbody>\n",
       "    <tr>\n",
       "      <th>1</th>\n",
       "      <td>Bu filmin katıldığı festivaller ödüllerini fi...</td>\n",
       "    </tr>\n",
       "    <tr>\n",
       "      <th>2</th>\n",
       "      <td>çok komik bir film ya izlediğim en iyi komedi...</td>\n",
       "    </tr>\n",
       "    <tr>\n",
       "      <th>3</th>\n",
       "      <td>harbiden çooooooook iyiydi herkesin dediği gi...</td>\n",
       "    </tr>\n",
       "    <tr>\n",
       "      <th>4</th>\n",
       "      <td>hayaller çok geniştir ve insanlar hayallerini...</td>\n",
       "    </tr>\n",
       "    <tr>\n",
       "      <th>5</th>\n",
       "      <td>o kadar sıcak ve samimi bir filmki tebrik etm...</td>\n",
       "    </tr>\n",
       "  </tbody>\n",
       "</table>\n",
       "</div>"
      ],
      "text/plain": [
       "                                               yorum\n",
       "1   Bu filmin katıldığı festivaller ödüllerini fi...\n",
       "2   çok komik bir film ya izlediğim en iyi komedi...\n",
       "3   harbiden çooooooook iyiydi herkesin dediği gi...\n",
       "4   hayaller çok geniştir ve insanlar hayallerini...\n",
       "5   o kadar sıcak ve samimi bir filmki tebrik etm..."
      ]
     },
     "execution_count": 2,
     "metadata": {},
     "output_type": "execute_result"
    }
   ],
   "source": [
    "column = ['yorum']\n",
    "df = pd.read_csv('yorumlar.csv', encoding ='iso-8859-9', sep='\"')\n",
    "df.columns=column\n",
    "df.info()\n",
    "df.head()"
   ]
  },
  {
   "cell_type": "code",
   "execution_count": 3,
   "metadata": {},
   "outputs": [
    {
     "name": "stderr",
     "output_type": "stream",
     "text": [
      "C:\\Users\\oztur\\Anaconda3\\lib\\site-packages\\pandas\\core\\indexing.py:671: SettingWithCopyWarning: \n",
      "A value is trying to be set on a copy of a slice from a DataFrame\n",
      "\n",
      "See the caveats in the documentation: https://pandas.pydata.org/pandas-docs/stable/user_guide/indexing.html#returning-a-view-versus-a-copy\n",
      "  self._setitem_with_indexer(indexer, value)\n"
     ]
    }
   ],
   "source": [
    "#Yukarıdaki veri setimizin bağımlı değişkenlerini ilk olarak 1 atadık\n",
    "df['Positivity'] = 1\n",
    "#Ardından 10003. veriden itibaren negatif yorum içerdiği için 0 olarak değiştirdik\n",
    "df.Positivity.iloc[10003:] = 0"
   ]
  },
  {
   "cell_type": "code",
   "execution_count": 4,
   "metadata": {},
   "outputs": [
    {
     "data": {
      "text/html": [
       "<div>\n",
       "<style scoped>\n",
       "    .dataframe tbody tr th:only-of-type {\n",
       "        vertical-align: middle;\n",
       "    }\n",
       "\n",
       "    .dataframe tbody tr th {\n",
       "        vertical-align: top;\n",
       "    }\n",
       "\n",
       "    .dataframe thead th {\n",
       "        text-align: right;\n",
       "    }\n",
       "</style>\n",
       "<table border=\"1\" class=\"dataframe\">\n",
       "  <thead>\n",
       "    <tr style=\"text-align: right;\">\n",
       "      <th></th>\n",
       "      <th>Yorum</th>\n",
       "      <th>Duygu</th>\n",
       "    </tr>\n",
       "  </thead>\n",
       "  <tbody>\n",
       "    <tr>\n",
       "      <th>1</th>\n",
       "      <td>Bu filmin katıldığı festivaller ödüllerini fi...</td>\n",
       "      <td>1</td>\n",
       "    </tr>\n",
       "    <tr>\n",
       "      <th>2</th>\n",
       "      <td>çok komik bir film ya izlediğim en iyi komedi...</td>\n",
       "      <td>1</td>\n",
       "    </tr>\n",
       "    <tr>\n",
       "      <th>3</th>\n",
       "      <td>harbiden çooooooook iyiydi herkesin dediği gi...</td>\n",
       "      <td>1</td>\n",
       "    </tr>\n",
       "    <tr>\n",
       "      <th>4</th>\n",
       "      <td>hayaller çok geniştir ve insanlar hayallerini...</td>\n",
       "      <td>1</td>\n",
       "    </tr>\n",
       "    <tr>\n",
       "      <th>5</th>\n",
       "      <td>o kadar sıcak ve samimi bir filmki tebrik etm...</td>\n",
       "      <td>1</td>\n",
       "    </tr>\n",
       "  </tbody>\n",
       "</table>\n",
       "</div>"
      ],
      "text/plain": [
       "                                               Yorum  Duygu\n",
       "1   Bu filmin katıldığı festivaller ödüllerini fi...      1\n",
       "2   çok komik bir film ya izlediğim en iyi komedi...      1\n",
       "3   harbiden çooooooook iyiydi herkesin dediği gi...      1\n",
       "4   hayaller çok geniştir ve insanlar hayallerini...      1\n",
       "5   o kadar sıcak ve samimi bir filmki tebrik etm...      1"
      ]
     },
     "execution_count": 4,
     "metadata": {},
     "output_type": "execute_result"
    }
   ],
   "source": [
    "df.columns = [\"Yorum\",\"Duygu\"]\n",
    "df.head()"
   ]
  },
  {
   "cell_type": "code",
   "execution_count": 5,
   "metadata": {},
   "outputs": [
    {
     "data": {
      "text/html": [
       "<div>\n",
       "<style scoped>\n",
       "    .dataframe tbody tr th:only-of-type {\n",
       "        vertical-align: middle;\n",
       "    }\n",
       "\n",
       "    .dataframe tbody tr th {\n",
       "        vertical-align: top;\n",
       "    }\n",
       "\n",
       "    .dataframe thead th {\n",
       "        text-align: right;\n",
       "    }\n",
       "</style>\n",
       "<table border=\"1\" class=\"dataframe\">\n",
       "  <thead>\n",
       "    <tr style=\"text-align: right;\">\n",
       "      <th></th>\n",
       "      <th>Yorum</th>\n",
       "      <th>Duygu</th>\n",
       "    </tr>\n",
       "  </thead>\n",
       "  <tbody>\n",
       "    <tr>\n",
       "      <th>0</th>\n",
       "      <td>çok kötü bir ürün asla tavsiye etmiyoruz</td>\n",
       "      <td>0</td>\n",
       "    </tr>\n",
       "    <tr>\n",
       "      <th>1</th>\n",
       "      <td>1 yıl dayanmadı ıdare eder demıcem cunku etmed...</td>\n",
       "      <td>0</td>\n",
       "    </tr>\n",
       "    <tr>\n",
       "      <th>2</th>\n",
       "      <td>Eline fazla telefon almayan biri olarak şarjı ...</td>\n",
       "      <td>0</td>\n",
       "    </tr>\n",
       "    <tr>\n",
       "      <th>3</th>\n",
       "      <td>5 para etmez</td>\n",
       "      <td>0</td>\n",
       "    </tr>\n",
       "    <tr>\n",
       "      <th>4</th>\n",
       "      <td>Telefon konusunda en büyük hatam Vestel güveni...</td>\n",
       "      <td>0</td>\n",
       "    </tr>\n",
       "  </tbody>\n",
       "</table>\n",
       "</div>"
      ],
      "text/plain": [
       "                                               Yorum  Duygu\n",
       "0           çok kötü bir ürün asla tavsiye etmiyoruz      0\n",
       "1  1 yıl dayanmadı ıdare eder demıcem cunku etmed...      0\n",
       "2  Eline fazla telefon almayan biri olarak şarjı ...      0\n",
       "3                                       5 para etmez      0\n",
       "4  Telefon konusunda en büyük hatam Vestel güveni...      0"
      ]
     },
     "execution_count": 5,
     "metadata": {},
     "output_type": "execute_result"
    }
   ],
   "source": [
    "#2.verisetimizi ekledik\n",
    "df2 = pd.read_csv(\"olumsuz.csv\")\n",
    "df2.head()"
   ]
  },
  {
   "cell_type": "code",
   "execution_count": 6,
   "metadata": {},
   "outputs": [],
   "source": [
    "#3. verisetimizi ekledik\n",
    "df3 = pd.read_excel(\"comment.xlsx\")\n",
    "# StopWord kelime olarak dahil kabul edilen kelime listesini dahil ettik\n",
    "stop_word_list = open(\"stopwords\",\"r\").read().split()"
   ]
  },
  {
   "cell_type": "code",
   "execution_count": 7,
   "metadata": {},
   "outputs": [],
   "source": [
    "# 3. verisetimizde bu çalışma için gerekli olmayan sütünları çıkartıp isimlerini değiştirdik\n",
    "df3 = df3.drop(columns=[\"Alışveriş Sitesi\",\"Ürün Adı\",\"Kullanıcı Yorum Puanı                       (1-2-3-4-5)\"])\n",
    "df3.columns=[\"Yorum\",\"Duygu\"]"
   ]
  },
  {
   "cell_type": "code",
   "execution_count": 8,
   "metadata": {},
   "outputs": [],
   "source": [
    "# verisetindeki değerleri 1 ve 0 olacak şekilde değiştirdik\n",
    "df3[\"Duygu\"].replace(5.0, value = 2, inplace = True)\n",
    "df3[\"Duygu\"].replace(1.0, value = 0, inplace = True)\n",
    "df3[\"Duygu\"].replace(2.0, value = 1, inplace = True)\n"
   ]
  },
  {
   "cell_type": "code",
   "execution_count": 9,
   "metadata": {},
   "outputs": [],
   "source": [
    "#3. verisetinde toplamdaki 24055 verinin yanında yer alan çok az sayıda nötr etiketlenmiş verileri çıkarttık\n",
    "for i in range(4498):\n",
    "     a = df3[\"Duygu\"][i]\n",
    "     if a == 3.0:\n",
    "         df3.drop(i,inplace=True)\n",
    "    "
   ]
  },
  {
   "cell_type": "code",
   "execution_count": 10,
   "metadata": {},
   "outputs": [],
   "source": [
    "# veri setindeki değerlendirmesi eksik verileri çıkarttık\n",
    "df3.dropna(axis = 0,inplace=True)"
   ]
  },
  {
   "cell_type": "code",
   "execution_count": 11,
   "metadata": {},
   "outputs": [],
   "source": [
    "# tüm verisetlerini birleştirip tek bir veriseti elde ettik\n",
    "data =pd.concat([df3,df2,df],ignore_index=True)"
   ]
  },
  {
   "cell_type": "code",
   "execution_count": 12,
   "metadata": {},
   "outputs": [],
   "source": [
    "data.reset_index(drop=True, inplace=True)\n",
    "duygu = data[\"Duygu\"].astype(int)"
   ]
  },
  {
   "cell_type": "code",
   "execution_count": 13,
   "metadata": {},
   "outputs": [],
   "source": [
    "data.drop(columns=\"Duygu\",inplace = True)\n",
    "data = pd.concat([data,duygu],axis = 1)"
   ]
  },
  {
   "cell_type": "markdown",
   "metadata": {},
   "source": [
    "### Stopword kelimelerin atılması veri setinin kullanılacak hale getirilmesi"
   ]
  },
  {
   "cell_type": "code",
   "execution_count": 14,
   "metadata": {},
   "outputs": [],
   "source": [
    "#verimizde bulunan noktalama işaretlerinin temizlenme işlemi\n",
    "data['Yorum'] = data['Yorum'].apply(lambda x: re.sub('[,\\.!?();:$%&#\"1234567890]', '', x))\n",
    "\n",
    "#büyük harflerin küçük harfe çevrilmesi\n",
    "data['Yorum'] = data['Yorum'].apply(lambda x: x.lower())\n",
    "\n",
    "#fazladan boşlukların temizlenmesi\n",
    "data['Yorum'] = data['Yorum'].apply(lambda x: x.strip())\n",
    "\n",
    "#cümleler içerisinde bulunan stopword'lerin kaldırılması\n",
    "def token(values):\n",
    "    words = nltk.tokenize.word_tokenize(values)\n",
    "    filtered_words = [word for word in words if word not in stop_word_list]\n",
    "    not_stopword_doc = \" \".join(filtered_words)\n",
    "    return not_stopword_doc\n",
    "\n",
    "data['Yorum'] = data['Yorum'].apply(lambda x: token(x))"
   ]
  },
  {
   "cell_type": "code",
   "execution_count": 15,
   "metadata": {},
   "outputs": [
    {
     "data": {
      "text/html": [
       "<div>\n",
       "<style scoped>\n",
       "    .dataframe tbody tr th:only-of-type {\n",
       "        vertical-align: middle;\n",
       "    }\n",
       "\n",
       "    .dataframe tbody tr th {\n",
       "        vertical-align: top;\n",
       "    }\n",
       "\n",
       "    .dataframe thead th {\n",
       "        text-align: right;\n",
       "    }\n",
       "</style>\n",
       "<table border=\"1\" class=\"dataframe\">\n",
       "  <thead>\n",
       "    <tr style=\"text-align: right;\">\n",
       "      <th></th>\n",
       "      <th>Yorum</th>\n",
       "    </tr>\n",
       "    <tr>\n",
       "      <th>Duygu</th>\n",
       "      <th></th>\n",
       "    </tr>\n",
       "  </thead>\n",
       "  <tbody>\n",
       "    <tr>\n",
       "      <th>0</th>\n",
       "      <td>10663</td>\n",
       "    </tr>\n",
       "    <tr>\n",
       "      <th>1</th>\n",
       "      <td>13392</td>\n",
       "    </tr>\n",
       "  </tbody>\n",
       "</table>\n",
       "</div>"
      ],
      "text/plain": [
       "       Yorum\n",
       "Duygu       \n",
       "0      10663\n",
       "1      13392"
      ]
     },
     "execution_count": 15,
     "metadata": {},
     "output_type": "execute_result"
    }
   ],
   "source": [
    "data.groupby(\"Duygu\").count()"
   ]
  },
  {
   "cell_type": "markdown",
   "metadata": {},
   "source": [
    "### Duygu Sayılarının Görselleştirilmesi"
   ]
  },
  {
   "cell_type": "code",
   "execution_count": 17,
   "metadata": {},
   "outputs": [],
   "source": [
    "labels = Counter(data['Duygu']).keys()\n",
    "sum_ = Counter(data['Duygu']).values()\n",
    "df = pd.DataFrame(zip(labels,sum_), columns = ['sentiment', 'Toplam'])"
   ]
  },
  {
   "cell_type": "code",
   "execution_count": 18,
   "metadata": {},
   "outputs": [
    {
     "data": {
      "image/png": "[encoded data removed]",
      "text/plain": [
       "<Figure size 1080x360 with 1 Axes>"
      ]
     },
     "metadata": {
      "needs_background": "light"
     },
     "output_type": "display_data"
    },
    {
     "data": {
      "image/png": "[encoded data removed]",
      "text/plain": [
       "<Figure size 1080x720 with 1 Axes>"
      ]
     },
     "metadata": {},
     "output_type": "display_data"
    }
   ],
   "source": [
    "\n",
    "#etiketlerin görselleştirilmesi - çubuk grafiği\n",
    "df.plot(x = 'sentiment' , y = 'Toplam',kind = 'bar', legend = False, grid = True, figsize = (15,5))\n",
    "plt.title('Duygu Sayılarının Görselleştirilmesi', fontsize = 20)\n",
    "plt.xlabel('Duygu', fontsize = 15)\n",
    "plt.ylabel('Toplam', fontsize = 15);\n",
    "#etiketlerin görselleştirilmesi - pasta grafiği\n",
    "fig, ax = plt.subplots(figsize=(15, 10))\n",
    "ax.pie(df.Toplam, labels =df.sentiment, autopct = '%1.2f%%',  startangle = 90 )\n",
    "ax.axis('equal')\n",
    "plt.show()\n"
   ]
  },
  {
   "cell_type": "markdown",
   "metadata": {},
   "source": [
    "### Veri setinin TF-IDF metodu ile hazır hale getirilmesi"
   ]
  },
  {
   "cell_type": "code",
   "execution_count": 19,
   "metadata": {},
   "outputs": [],
   "source": [
    "\n",
    "X_train, X_test, y_train, y_test = train_test_split(data[\"Yorum\"],data[\"Duygu\"], test_size = 0.33,random_state = 0)"
   ]
  },
  {
   "cell_type": "code",
   "execution_count": 24,
   "metadata": {},
   "outputs": [],
   "source": [
    "\n",
    "vect = TfidfVectorizer().fit(X_train)\n",
    "\n",
    "X_train_vectorized = vect.transform(X_train)\n"
   ]
  },
  {
   "cell_type": "markdown",
   "metadata": {},
   "source": [
    "### Algoritmaların Uygulanması"
   ]
  },
  {
   "cell_type": "code",
   "execution_count": 31,
   "metadata": {},
   "outputs": [
    {
     "name": "stdout",
     "output_type": "stream",
     "text": [
      "0.8658521224335559\n"
     ]
    }
   ],
   "source": [
    "\n",
    "lr = LogisticRegression()\n",
    "lr.fit(X_train_vectorized, y_train)\n",
    "predictions = lr.predict(vect.transform(X_test))\n",
    "accuarylr= accuracy_score(y_test,predictions)\n",
    "print(accuarylr)\n"
   ]
  },
  {
   "cell_type": "code",
   "execution_count": 26,
   "metadata": {},
   "outputs": [
    {
     "name": "stdout",
     "output_type": "stream",
     "text": [
      "0.7849855145484318\n"
     ]
    }
   ],
   "source": [
    "\n",
    "knn = KNeighborsClassifier(n_neighbors=10,metric=\"minkowski\")\n",
    "\n",
    "knn.fit(X_train_vectorized, y_train)\n",
    "\n",
    "y_pred = knn.predict(vect.transform(X_test))\n",
    "accuaryknn = accuracy_score(y_test,y_pred)\n",
    "print(accuaryknn)\n"
   ]
  },
  {
   "cell_type": "code",
   "execution_count": 27,
   "metadata": {},
   "outputs": [
    {
     "name": "stdout",
     "output_type": "stream",
     "text": [
      "0.8671117269177478\n"
     ]
    }
   ],
   "source": [
    "svc = SVC(kernel = \"linear\")\n",
    "svc.fit(X_train_vectorized,y_train)\n",
    "y_pred = svc.predict(vect.transform(X_test))\n",
    "\n",
    "accuarysvc = accuracy_score(y_test,y_pred)\n",
    "print(accuarysvc)"
   ]
  },
  {
   "cell_type": "code",
   "execution_count": 28,
   "metadata": {},
   "outputs": [
    {
     "name": "stdout",
     "output_type": "stream",
     "text": [
      "0.758785741277239\n"
     ]
    }
   ],
   "source": [
    "dtc = DecisionTreeClassifier(criterion='gini')\n",
    "\n",
    "dtc.fit(X_train_vectorized, y_train)\n",
    "y_pred = dtc.predict(vect.transform(X_test))\n",
    "\n",
    "accuarydtc = accuracy_score(y_test,y_pred)\n",
    "print(accuarydtc)"
   ]
  },
  {
   "cell_type": "code",
   "execution_count": 29,
   "metadata": {},
   "outputs": [
    {
     "name": "stdout",
     "output_type": "stream",
     "text": [
      "0.831338959566696\n"
     ]
    }
   ],
   "source": [
    "rfc = RandomForestClassifier(n_estimators=150,criterion='entropy')\n",
    "\n",
    "rfc.fit(X_train_vectorized,y_train)\n",
    "y_pred = rfc.predict(vect.transform(X_test))\n",
    "accuaryrfc = accuracy_score(y_test,y_pred)\n",
    "print(accuaryrfc)"
   ]
  },
  {
   "cell_type": "code",
   "execution_count": 33,
   "metadata": {},
   "outputs": [
    {
     "name": "stdout",
     "output_type": "stream",
     "text": [
      "0.8615694671873032\n"
     ]
    }
   ],
   "source": [
    "sgd = OneVsRestClassifier(SGDClassifier(loss = 'hinge', penalty = 'elasticnet', max_iter = 1000))\n",
    "sgd.fit(X_train_vectorized, y_train)\n",
    "y_pred = sgd.predict(vect.transform(X_test))\n",
    "accuarysgd = accuracy_score(y_test,y_pred)\n",
    "print(accuarysgd)"
   ]
  },
  {
   "cell_type": "code",
   "execution_count": 34,
   "metadata": {},
   "outputs": [
    {
     "data": {
      "image/png": "[encoded data removed]",
      "text/plain": [
       "<Figure size 432x288 with 1 Axes>"
      ]
     },
     "metadata": {
      "needs_background": "light"
     },
     "output_type": "display_data"
    }
   ],
   "source": [
    "#test accuracy'lerinin görselleştirilmesi\n",
    "accuracys = [accuarylr,accuaryknn,accuarysvc,accuarydtc,accuaryrfc,accuarysgd]\n",
    "plt.plot([\"LR\",\"KNN\", \"SVC\", \"DTC\",\"RFC\",\"SGD\"],accuracys , marker = \"x\" , markersize = 9 , color = \"red\");"
   ]
  },
  {
   "cell_type": "code",
   "execution_count": 78,
   "metadata": {},
   "outputs": [
    {
     "name": "stdout",
     "output_type": "stream",
     "text": [
      "Degerlendirme Programına Hoş Geldiniz!!\n",
      "Yorumunuz Nedir?(Programdan çıkmak için 'Q' yazınız)q\n"
     ]
    }
   ],
   "source": [
    "while(True):\n",
    "    print(\"Degerlendirme Programına Hoş Geldiniz!!\")\n",
    "    yorum=input(\"Yorumunuz Nedir?(Programdan çıkmak için \\'Q\\' yazınız)\")\n",
    "    \n",
    "    if(yorum == 'Q' or yorum == 'q'):\n",
    "        break\n",
    "    else:\n",
    "        puan = int(input(\"Degerlendirme Karşılaştırması için 0-1 Puan Değerlendirmede Bulunur musunuz?\\n\"))\n",
    "        x =int(sgd.predict(vect.transform([yorum])))\n",
    "        if x == puan:\n",
    "            print(\"Teşekkürler\")\n",
    "            \n",
    "        else:\n",
    "            print(\"Girdiğiniz Puan ve Yorumunuz Eşleşmiyor Tekrar Deneyiniz!!\")"
   ]
  },
  {
   "cell_type": "code",
   "execution_count": null,
   "metadata": {},
   "outputs": [],
   "source": []
  }
 ],
 "metadata": {
  "kernelspec": {
   "display_name": "Python 3",
   "language": "python",
   "name": "python3"
  },
  "language_info": {
   "codemirror_mode": {
    "name": "ipython",
    "version": 3
   },
   "file_extension": ".py",
   "mimetype": "text/x-python",
   "name": "python",
   "nbconvert_exporter": "python",
   "pygments_lexer": "ipython3",
   "version": "3.8.3"
  }
 },
 "nbformat": 4,
 "nbformat_minor": 4
}
